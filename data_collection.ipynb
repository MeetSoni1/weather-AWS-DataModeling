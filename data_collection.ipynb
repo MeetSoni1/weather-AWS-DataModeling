{
 "cells": [
  {
   "cell_type": "code",
   "execution_count": 5,
   "id": "f38a90a9-f0e4-4c66-acc5-11fd570d4c11",
   "metadata": {},
   "outputs": [],
   "source": [
    "import requests as rq"
   ]
  },
  {
   "cell_type": "code",
   "execution_count": 6,
   "id": "4d8c7193-2ce3-4951-b596-4f12ce46f32d",
   "metadata": {},
   "outputs": [],
   "source": [
    "key = 'fb2b95f2e82a10bbab01a9bc4b83f6fb'\n",
    "url = f\"http://api.openweathermap.org/geo/1.0/direct?q=Berlin,DE&limit=5&appid={key}\""
   ]
  },
  {
   "cell_type": "code",
   "execution_count": 9,
   "id": "2ee1e029-2d32-442a-b794-45c5bb7fc48f",
   "metadata": {},
   "outputs": [],
   "source": [
    "url = f\"https://api.openweathermap.org/data/2.5/weather?lat=23.2156&lon=72.6369&appid={key}\""
   ]
  },
  {
   "cell_type": "code",
   "execution_count": 10,
   "id": "5ca36651-b56a-4151-96d6-b0073cb3b549",
   "metadata": {},
   "outputs": [],
   "source": [
    "resp = rq.get(url)"
   ]
  },
  {
   "cell_type": "code",
   "execution_count": 11,
   "id": "c0508406-941e-40fe-a5c8-6fe855fc1354",
   "metadata": {},
   "outputs": [
    {
     "data": {
      "text/plain": [
       "<Response [401]>"
      ]
     },
     "execution_count": 11,
     "metadata": {},
     "output_type": "execute_result"
    }
   ],
   "source": [
    "resp"
   ]
  }
 ],
 "metadata": {
  "kernelspec": {
   "display_name": "Python 3 (ipykernel)",
   "language": "python",
   "name": "python3"
  },
  "language_info": {
   "codemirror_mode": {
    "name": "ipython",
    "version": 3
   },
   "file_extension": ".py",
   "mimetype": "text/x-python",
   "name": "python",
   "nbconvert_exporter": "python",
   "pygments_lexer": "ipython3",
   "version": "3.11.7"
  }
 },
 "nbformat": 4,
 "nbformat_minor": 5
}
